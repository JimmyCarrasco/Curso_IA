{
  "nbformat": 4,
  "nbformat_minor": 0,
  "metadata": {
    "colab": {
      "provenance": [],
      "authorship_tag": "ABX9TyOxJ/Z8KqlihGMvUXY82d9P",
      "include_colab_link": true
    },
    "kernelspec": {
      "name": "python3",
      "display_name": "Python 3"
    },
    "language_info": {
      "name": "python"
    }
  },
  "cells": [
    {
      "cell_type": "markdown",
      "metadata": {
        "id": "view-in-github",
        "colab_type": "text"
      },
      "source": [
        "<a href=\"https://colab.research.google.com/github/JimmyCarrasco/Curso_IA/blob/main/Clase_3/CLASE_3.ipynb\" target=\"_parent\"><img src=\"https://colab.research.google.com/assets/colab-badge.svg\" alt=\"Open In Colab\"/></a>"
      ]
    },
    {
      "cell_type": "code",
      "execution_count": null,
      "metadata": {
        "id": "tfVn9Qn1P3wJ"
      },
      "outputs": [],
      "source": [
        "from tensorflow import keras\n",
        "from tensorflow.keras import Sequential,layers"
      ]
    },
    {
      "cell_type": "code",
      "source": [
        "#REDES NEURONALES DE REGRESION\n",
        "\n",
        "modelo_1 = Sequential([ layers.Dense(5,activation=\"relu\",input_shape=[3]),\n",
        "                        layers.Dense(3,activation=\"relu\"),\n",
        "                        layers.Dense(1,activation=None)\n",
        "                     ])"
      ],
      "metadata": {
        "id": "xps77QPBQcwe"
      },
      "execution_count": null,
      "outputs": []
    },
    {
      "cell_type": "code",
      "source": [
        "#REDES NEURONALES DE UNA CLASIFICACION\n",
        "modelo_2 = Sequential([ layers.Dense(5,input_shape=[3],activation=\"relu\"),\n",
        "                        layers.Dense(3,activation=\"relu\"),\n",
        "                        layers.Dense(1,activation=\"sigmoid\")\n",
        "                      ])"
      ],
      "metadata": {
        "id": "SChrkTAuTa9-"
      },
      "execution_count": null,
      "outputs": []
    },
    {
      "cell_type": "code",
      "source": [
        "modelo_3 = Sequential([ layers.Dense(100,input_shape=[4],activation=\"relu\"),\n",
        "                        layers.Dense(50,activation=\"relu\"),\n",
        "                        layers.Dense(1,activation=\"sigmoid\")\n",
        "                      ])"
      ],
      "metadata": {
        "id": "omsFqQUbUej-"
      },
      "execution_count": null,
      "outputs": []
    },
    {
      "cell_type": "code",
      "source": [
        "modelo_4 = Sequential([ layers.Dense(72,input_shape=[4],activation=\"relu\"),\n",
        "                        layers.Dense(1,activation=\"sigmoid\")\n",
        "                      ])"
      ],
      "metadata": {
        "id": "7Xgqkb6LWahe"
      },
      "execution_count": null,
      "outputs": []
    }
  ]
}